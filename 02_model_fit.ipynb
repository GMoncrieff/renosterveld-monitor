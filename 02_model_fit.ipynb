{
 "cells": [
  {
   "cell_type": "code",
   "execution_count": 1,
   "metadata": {},
   "outputs": [],
   "source": [
    "import ee\n",
    "service_account = 'renosterveld-ee@ee-vegetation-gee4geo.iam.gserviceaccount.com'\n",
    "credentials = ee.ServiceAccountCredentials(service_account, 'ee-vegetation-gee4geo-6309a79ef209.json')\n",
    "ee.Initialize(credentials)"
   ]
  },
  {
   "cell_type": "code",
   "execution_count": 2,
   "metadata": {},
   "outputs": [
    {
     "name": "stderr",
     "output_type": "stream",
     "text": [
      "/home/jupyter/.local/lib/python3.7/site-packages/tensorflow_addons/utils/ensure_tf_install.py:67: UserWarning: Tensorflow Addons supports using Python ops for all Tensorflow versions above or equal to 2.3.0 and strictly below 2.5.0 (nightly versions are not supported). \n",
      " The versions of TensorFlow you are currently using is 2.6.0 and is not supported. \n",
      "Some things might work, some things might not.\n",
      "If you were to encounter a bug, do not file an issue.\n",
      "If you want to make sure you're using a tested and supported configuration, either change the TensorFlow version or the TensorFlow Addons's version. \n",
      "You can find the compatibility matrix in TensorFlow Addon's readme:\n",
      "https://github.com/tensorflow/addons\n",
      "  UserWarning,\n"
     ]
    }
   ],
   "source": [
    "import tensorflow as tf\n",
    "import json\n",
    "from eoflow.models import TransformerEncoder, TempCNNModel\n",
    "from sklearn.ensemble import RandomForestClassifier\n",
    "from sklearn import metrics\n",
    "\n",
    "from utils.tf_data_utils import *\n",
    "from utils.globals import *"
   ]
  },
  {
   "cell_type": "code",
   "execution_count": 3,
   "metadata": {},
   "outputs": [
    {
     "name": "stdout",
     "output_type": "stream",
     "text": [
      "Num GPUs Available:  0\n"
     ]
    }
   ],
   "source": [
    "print(\"Num GPUs Available: \", len(tf.config.list_physical_devices('GPU')))"
   ]
  },
  {
   "cell_type": "code",
   "execution_count": 3,
   "metadata": {},
   "outputs": [],
   "source": [
    "with open('data/max.json') as f:\n",
    "  Max = json.load(f)\n",
    "\n",
    "with open('data/min.json') as f:\n",
    "  Min = json.load(f)"
   ]
  },
  {
   "cell_type": "code",
   "execution_count": 4,
   "metadata": {},
   "outputs": [],
   "source": [
    "trainFilePath = 'data/Training_reno_cnn.tfrecord.gz'\n",
    "testFilePath = 'data/Testing_reno_cnn.tfrecord.gz'\n",
    "validFilePath = 'data/Valid_reno_cnn.tfrecord.gz'"
   ]
  },
  {
   "cell_type": "code",
   "execution_count": 5,
   "metadata": {},
   "outputs": [],
   "source": [
    "# List of fixed-length features, all of which are float32.\n",
    "columns = [\n",
    "  tf.io.FixedLenFeature(shape=[tsLength], dtype=tf.float32) \n",
    "    for k in featureNames\n",
    "]\n",
    "# Dictionary with names as keys, features as values.\n",
    "featuresDict = dict(zip(featureNames, columns))"
   ]
  },
  {
   "cell_type": "markdown",
   "metadata": {},
   "source": [
    "# plot time"
   ]
  },
  {
   "cell_type": "code",
   "execution_count": 7,
   "metadata": {},
   "outputs": [
    {
     "data": {
      "image/png": "[encoded data removed]",
      "text/plain": [
       "<Figure size 432x288 with 1 Axes>"
      ]
     },
     "metadata": {
      "needs_background": "light"
     },
     "output_type": "display_data"
    }
   ],
   "source": [
    "dataset0 = tf.data.TFRecordDataset(trainFilePath, compression_type='GZIP')\\\n",
    ".map(lambda x: parse_tfrecord(x,featuresDict))\\\n",
    ".flat_map(lambda x: shift_window(x, WINDOW/3,len(allbands)+1))\\\n",
    ".map(lambda x: reshape_ts(x, featureNames))\\\n",
    ".map(lambda x: labeller(x, label))\\\n",
    ".filter(filter_fn0)\n",
    "\n",
    "y = iter(dataset0.shuffle(buffer_size=100000, seed=42).batch(5)).next()\n",
    "y = y['ndvi'].numpy().transpose()\n",
    "x = np.arange(1, 19, 1)\n",
    "\n",
    "plt.plot(x, y,color='blue',alpha=0.5)\n",
    "plt.ylabel('NDVI')\n",
    "plt.ylim(0,1)\n",
    "plt.show()"
   ]
  },
  {
   "cell_type": "code",
   "execution_count": 8,
   "metadata": {},
   "outputs": [
    {
     "data": {
      "image/png": "[encoded data removed]",
      "text/plain": [
       "<Figure size 432x288 with 1 Axes>"
      ]
     },
     "metadata": {
      "needs_background": "light"
     },
     "output_type": "display_data"
    }
   ],
   "source": [
    "dataset1 = tf.data.TFRecordDataset(trainFilePath, compression_type='GZIP')\\\n",
    ".map(lambda x: parse_tfrecord(x,featuresDict))\\\n",
    ".flat_map(lambda x: shift_window(x, WINDOW/3,len(allbands)+1))\\\n",
    ".map(lambda x: reshape_ts(x, featureNames))\\\n",
    ".map(lambda x: labeller(x, label))\\\n",
    ".filter(filter_fn1)\n",
    "\n",
    "y = iter(dataset1.shuffle(buffer_size=100000, seed=42).batch(5)).next()\n",
    "y = y['ndvi'].numpy().transpose()\n",
    "x = np.arange(1, 19, 1)\n",
    "\n",
    "plt.plot(x, y,color='blue',alpha=0.5)\n",
    "plt.ylabel('NDVI')\n",
    "plt.ylim(0,1)\n",
    "plt.show()"
   ]
  },
  {
   "cell_type": "markdown",
   "metadata": {},
   "source": [
    "# data"
   ]
  },
  {
   "cell_type": "code",
   "execution_count": 6,
   "metadata": {},
   "outputs": [],
   "source": [
    "dataset = tf.data.TFRecordDataset(trainFilePath, compression_type='GZIP')\\\n",
    ".map(lambda x: parse_tfrecord(x,featuresDict))\\\n",
    ".flat_map(lambda x: shift_window(x, WINDOW/3, len(allbands)+1))\\\n",
    ".map(lambda x: reshape_ts(x, featureNames))\\\n",
    ".map(lambda x: labeller(x, label))\\\n",
    ".filter(filter_fn)\\\n",
    ".map(lambda x: standardize(x, Min,Max))\\\n",
    ".map(lambda x: poplabint(x, label))\\\n",
    ".map(lambda x, lab: toTuple(x, lab))\\\n",
    ".shuffle(buffer_size=buff, seed=42)\\\n",
    ".repeat()\\\n",
    ".batch(batch_size)"
   ]
  },
  {
   "cell_type": "code",
   "execution_count": 7,
   "metadata": {},
   "outputs": [],
   "source": [
    "valDataset = tf.data.TFRecordDataset(validFilePath, compression_type='GZIP')\\\n",
    ".map(lambda x: parse_tfrecord(x,featuresDict))\\\n",
    ".flat_map(lambda x: shift_window(x, WINDOW/3, len(allbands)+1))\\\n",
    ".map(lambda x: reshape_ts(x, featureNames))\\\n",
    ".map(lambda x: labeller(x, label))\\\n",
    ".filter(filter_fn)\\\n",
    ".map(lambda x: standardize(x, Min,Max))\\\n",
    ".map(lambda x: poplabint(x, label))\\\n",
    ".map(lambda x, lab: toTuple(x, lab))\\\n",
    ".batch(batch_size)"
   ]
  },
  {
   "cell_type": "markdown",
   "metadata": {},
   "source": [
    "## CNN"
   ]
  },
  {
   "cell_type": "code",
   "execution_count": null,
   "metadata": {},
   "outputs": [
    {
     "name": "stdout",
     "output_type": "stream",
     "text": [
      "Model: \"model\"\n",
      "_________________________________________________________________\n",
      "Layer (type)                 Output Shape              Param #   \n",
      "=================================================================\n",
      "input_1 (InputLayer)         [(None, 18, 18)]          0         \n",
      "_________________________________________________________________\n",
      "conv1d (Conv1D)              (None, 18, 32)            2912      \n",
      "_________________________________________________________________\n",
      "activation (Activation)      (None, 18, 32)            0         \n",
      "_________________________________________________________________\n",
      "dropout (Dropout)            (None, 18, 32)            0         \n",
      "_________________________________________________________________\n",
      "conv1d_1 (Conv1D)            (None, 18, 32)            5152      \n",
      "_________________________________________________________________\n",
      "activation_1 (Activation)    (None, 18, 32)            0         \n",
      "_________________________________________________________________\n",
      "dropout_1 (Dropout)          (None, 18, 32)            0         \n",
      "_________________________________________________________________\n",
      "conv1d_2 (Conv1D)            (None, 18, 32)            5152      \n",
      "_________________________________________________________________\n",
      "activation_2 (Activation)    (None, 18, 32)            0         \n",
      "_________________________________________________________________\n",
      "dropout_2 (Dropout)          (None, 18, 32)            0         \n",
      "_________________________________________________________________\n",
      "flatten (Flatten)            (None, 576)               0         \n",
      "_________________________________________________________________\n",
      "dense (Dense)                (None, 256)               147712    \n",
      "_________________________________________________________________\n",
      "activation_3 (Activation)    (None, 256)               0         \n",
      "_________________________________________________________________\n",
      "dropout_3 (Dropout)          (None, 256)               0         \n",
      "_________________________________________________________________\n",
      "dense_1 (Dense)              (None, 2)                 514       \n",
      "_________________________________________________________________\n",
      "softmax (Softmax)            (None, 2)                 0         \n",
      "=================================================================\n",
      "Total params: 161,442\n",
      "Trainable params: 161,442\n",
      "Non-trainable params: 0\n",
      "_________________________________________________________________\n",
      "Model: \"model\"\n",
      "_________________________________________________________________\n",
      "Layer (type)                 Output Shape              Param #   \n",
      "=================================================================\n",
      "input_2 (InputLayer)         [(None, 18, 18)]          0         \n",
      "_________________________________________________________________\n",
      "conv1d (Conv1D)              (None, 18, 32)            2912      \n",
      "_________________________________________________________________\n",
      "activation (Activation)      (None, 18, 32)            0         \n",
      "_________________________________________________________________\n",
      "dropout (Dropout)            (None, 18, 32)            0         \n",
      "_________________________________________________________________\n",
      "conv1d_1 (Conv1D)            (None, 18, 32)            5152      \n",
      "_________________________________________________________________\n",
      "activation_1 (Activation)    (None, 18, 32)            0         \n",
      "_________________________________________________________________\n",
      "dropout_1 (Dropout)          (None, 18, 32)            0         \n",
      "_________________________________________________________________\n",
      "conv1d_2 (Conv1D)            (None, 18, 32)            5152      \n",
      "_________________________________________________________________\n",
      "activation_2 (Activation)    (None, 18, 32)            0         \n",
      "_________________________________________________________________\n",
      "dropout_2 (Dropout)          (None, 18, 32)            0         \n",
      "_________________________________________________________________\n",
      "flatten (Flatten)            (None, 576)               0         \n",
      "_________________________________________________________________\n",
      "dense (Dense)                (None, 256)               147712    \n",
      "_________________________________________________________________\n",
      "activation_3 (Activation)    (None, 256)               0         \n",
      "_________________________________________________________________\n",
      "dropout_3 (Dropout)          (None, 256)               0         \n",
      "_________________________________________________________________\n",
      "dense_1 (Dense)              (None, 2)                 514       \n",
      "_________________________________________________________________\n",
      "softmax (Softmax)            (None, 2)                 0         \n",
      "=================================================================\n",
      "Total params: 161,442\n",
      "Trainable params: 161,442\n",
      "Non-trainable params: 0\n",
      "_________________________________________________________________\n"
     ]
    }
   ],
   "source": [
    "#model pars\n",
    "model_cfg = {\n",
    "    \"learning_rate\": lr,\n",
    "    \"n_classes\": n_classes,\n",
    "    \"keep_prob\": 0.8,\n",
    "    \"metrics\": [\"accuracy\",\"precision\",\"recall\"],\n",
    "    \"loss\": \"focal_loss\",\n",
    "    \"kernel_regularizer\": 1e-08,\n",
    "    \"nb_conv_filters\": 32,\n",
    "    \"nb_conv_stacks\": 3\n",
    "}\n",
    "\n",
    "# rubn model\n",
    "model_cnn = TempCNNModel(model_cfg)\n",
    "model_cnn.build(input_shape)\n",
    "model_cnn.prepare()\n",
    "model_cnn.train_and_evaluate(\n",
    "    train_dataset=dataset,\n",
    "    val_dataset=valDataset,\n",
    "    num_epochs=epochs,\n",
    "    iterations_per_epoch=steps,\n",
    "    model_directory=model_directory,\n",
    "    save_steps='epoch',\n",
    "    summary_steps='epoch',\n",
    "    verbose=0\n",
    ")"
   ]
  },
  {
   "cell_type": "markdown",
   "metadata": {},
   "source": [
    "## Transformer"
   ]
  },
  {
   "cell_type": "code",
   "execution_count": 12,
   "metadata": {},
   "outputs": [
    {
     "name": "stdout",
     "output_type": "stream",
     "text": [
      "Model: \"sequential_3\"\n",
      "_________________________________________________________________\n",
      "Layer (type)                 Output Shape              Param #   \n",
      "=================================================================\n",
      "encoder (Encoder)            (None, 18, 128)           267392    \n",
      "_________________________________________________________________\n",
      "dense_14 (Dense)             (None, 18, 2)             258       \n",
      "_________________________________________________________________\n",
      "max_pooling1d (MaxPooling1D) (None, 1, 2)              0         \n",
      "_________________________________________________________________\n",
      "squeeze (Lambda)             (None, 2)                 0         \n",
      "_________________________________________________________________\n",
      "softmax_1 (Softmax)          (None, 2)                 0         \n",
      "=================================================================\n",
      "Total params: 267,650\n",
      "Trainable params: 267,650\n",
      "Non-trainable params: 0\n",
      "_________________________________________________________________\n",
      "Model: \"sequential\"\n",
      "_________________________________________________________________\n",
      "Layer (type)                 Output Shape              Param #   \n",
      "=================================================================\n",
      "encoder (Encoder)            (None, 18, 128)           267392    \n",
      "_________________________________________________________________\n",
      "dense_14 (Dense)             (None, 18, 2)             258       \n",
      "_________________________________________________________________\n",
      "max_pooling1d (MaxPooling1D) (None, 1, 2)              0         \n",
      "_________________________________________________________________\n",
      "squeeze (Lambda)             (None, 2)                 0         \n",
      "_________________________________________________________________\n",
      "softmax (Softmax)            (None, 2)                 0         \n",
      "=================================================================\n",
      "Total params: 267,650\n",
      "Trainable params: 267,650\n",
      "Non-trainable params: 0\n",
      "_________________________________________________________________\n"
     ]
    },
    {
     "ename": "KeyboardInterrupt",
     "evalue": "",
     "output_type": "error",
     "traceback": [
      "\u001b[0;31m---------------------------------------------------------------------------\u001b[0m",
      "\u001b[0;31mKeyboardInterrupt\u001b[0m                         Traceback (most recent call last)",
      "\u001b[0;32m<ipython-input-12-fc3f80317358>\u001b[0m in \u001b[0;36m<module>\u001b[0;34m\u001b[0m\n\u001b[1;32m     25\u001b[0m     \u001b[0msave_steps\u001b[0m\u001b[0;34m=\u001b[0m\u001b[0;34m'epoch'\u001b[0m\u001b[0;34m,\u001b[0m\u001b[0;34m\u001b[0m\u001b[0;34m\u001b[0m\u001b[0m\n\u001b[1;32m     26\u001b[0m     \u001b[0msummary_steps\u001b[0m\u001b[0;34m=\u001b[0m\u001b[0;34m'epoch'\u001b[0m\u001b[0;34m,\u001b[0m\u001b[0;34m\u001b[0m\u001b[0;34m\u001b[0m\u001b[0m\n\u001b[0;32m---> 27\u001b[0;31m     \u001b[0mverbose\u001b[0m\u001b[0;34m=\u001b[0m\u001b[0;36m0\u001b[0m\u001b[0;34m\u001b[0m\u001b[0;34m\u001b[0m\u001b[0m\n\u001b[0m\u001b[1;32m     28\u001b[0m )\n",
      "\u001b[0;32m~/.local/lib/python3.7/site-packages/eoflow/models/classification_base.py\u001b[0m in \u001b[0;36mtrain_and_evaluate\u001b[0;34m(self, train_dataset, val_dataset, num_epochs, iterations_per_epoch, model_directory, class_weights, save_steps, summary_steps, callbacks, **kwargs)\u001b[0m\n\u001b[1;32m    126\u001b[0m                                    \u001b[0mmodel_directory\u001b[0m\u001b[0;34m,\u001b[0m\u001b[0;34m\u001b[0m\u001b[0;34m\u001b[0m\u001b[0m\n\u001b[1;32m    127\u001b[0m                                    \u001b[0msave_steps\u001b[0m\u001b[0;34m=\u001b[0m\u001b[0msave_steps\u001b[0m\u001b[0;34m,\u001b[0m \u001b[0msummary_steps\u001b[0m\u001b[0;34m=\u001b[0m\u001b[0msummary_steps\u001b[0m\u001b[0;34m,\u001b[0m\u001b[0;34m\u001b[0m\u001b[0;34m\u001b[0m\u001b[0m\n\u001b[0;32m--> 128\u001b[0;31m                                    callbacks=callbacks, **kwargs)\n\u001b[0m",
      "\u001b[0;32m~/.local/lib/python3.7/site-packages/eoflow/base/base_model.py\u001b[0m in \u001b[0;36mtrain_and_evaluate\u001b[0;34m(self, train_dataset, val_dataset, num_epochs, iterations_per_epoch, model_directory, save_steps, summary_steps, callbacks, **kwargs)\u001b[0m\n\u001b[1;32m    154\u001b[0m                          \u001b[0msummary_steps\u001b[0m\u001b[0;34m=\u001b[0m\u001b[0msummary_steps\u001b[0m\u001b[0;34m,\u001b[0m\u001b[0;34m\u001b[0m\u001b[0;34m\u001b[0m\u001b[0m\n\u001b[1;32m    155\u001b[0m                          \u001b[0mcallbacks\u001b[0m\u001b[0;34m=\u001b[0m\u001b[0mcallbacks\u001b[0m\u001b[0;34m,\u001b[0m\u001b[0;34m\u001b[0m\u001b[0;34m\u001b[0m\u001b[0m\n\u001b[0;32m--> 156\u001b[0;31m                          **kwargs)\n\u001b[0m",
      "\u001b[0;32m~/.local/lib/python3.7/site-packages/eoflow/base/base_model.py\u001b[0m in \u001b[0;36m_fit\u001b[0;34m(self, dataset, num_epochs, model_directory, iterations_per_epoch, val_dataset, save_steps, summary_steps, callbacks, **kwargs)\u001b[0m\n\u001b[1;32m     71\u001b[0m                         \u001b[0msteps_per_epoch\u001b[0m\u001b[0;34m=\u001b[0m\u001b[0miterations_per_epoch\u001b[0m\u001b[0;34m,\u001b[0m\u001b[0;34m\u001b[0m\u001b[0;34m\u001b[0m\u001b[0m\n\u001b[1;32m     72\u001b[0m                         \u001b[0mcallbacks\u001b[0m\u001b[0;34m=\u001b[0m\u001b[0;34m[\u001b[0m\u001b[0mtensorboard_callback\u001b[0m\u001b[0;34m,\u001b[0m \u001b[0mcheckpoint_callback\u001b[0m\u001b[0;34m]\u001b[0m \u001b[0;34m+\u001b[0m \u001b[0mcallbacks\u001b[0m\u001b[0;34m,\u001b[0m\u001b[0;34m\u001b[0m\u001b[0;34m\u001b[0m\u001b[0m\n\u001b[0;32m---> 73\u001b[0;31m                         **kwargs)\n\u001b[0m\u001b[1;32m     74\u001b[0m \u001b[0;34m\u001b[0m\u001b[0m\n\u001b[1;32m     75\u001b[0m     def train(self,\n",
      "\u001b[0;32m/opt/conda/lib/python3.7/site-packages/tensorflow/python/keras/engine/training.py\u001b[0m in \u001b[0;36mfit\u001b[0;34m(self, x, y, batch_size, epochs, verbose, callbacks, validation_split, validation_data, shuffle, class_weight, sample_weight, initial_epoch, steps_per_epoch, validation_steps, validation_batch_size, validation_freq, max_queue_size, workers, use_multiprocessing)\u001b[0m\n\u001b[1;32m   1098\u001b[0m                 _r=1):\n\u001b[1;32m   1099\u001b[0m               \u001b[0mcallbacks\u001b[0m\u001b[0;34m.\u001b[0m\u001b[0mon_train_batch_begin\u001b[0m\u001b[0;34m(\u001b[0m\u001b[0mstep\u001b[0m\u001b[0;34m)\u001b[0m\u001b[0;34m\u001b[0m\u001b[0;34m\u001b[0m\u001b[0m\n\u001b[0;32m-> 1100\u001b[0;31m               \u001b[0mtmp_logs\u001b[0m \u001b[0;34m=\u001b[0m \u001b[0mself\u001b[0m\u001b[0;34m.\u001b[0m\u001b[0mtrain_function\u001b[0m\u001b[0;34m(\u001b[0m\u001b[0miterator\u001b[0m\u001b[0;34m)\u001b[0m\u001b[0;34m\u001b[0m\u001b[0;34m\u001b[0m\u001b[0m\n\u001b[0m\u001b[1;32m   1101\u001b[0m               \u001b[0;32mif\u001b[0m \u001b[0mdata_handler\u001b[0m\u001b[0;34m.\u001b[0m\u001b[0mshould_sync\u001b[0m\u001b[0;34m:\u001b[0m\u001b[0;34m\u001b[0m\u001b[0;34m\u001b[0m\u001b[0m\n\u001b[1;32m   1102\u001b[0m                 \u001b[0mcontext\u001b[0m\u001b[0;34m.\u001b[0m\u001b[0masync_wait\u001b[0m\u001b[0;34m(\u001b[0m\u001b[0;34m)\u001b[0m\u001b[0;34m\u001b[0m\u001b[0;34m\u001b[0m\u001b[0m\n",
      "\u001b[0;32m/opt/conda/lib/python3.7/site-packages/tensorflow/python/eager/def_function.py\u001b[0m in \u001b[0;36m__call__\u001b[0;34m(self, *args, **kwds)\u001b[0m\n\u001b[1;32m    826\u001b[0m     \u001b[0mtracing_count\u001b[0m \u001b[0;34m=\u001b[0m \u001b[0mself\u001b[0m\u001b[0;34m.\u001b[0m\u001b[0mexperimental_get_tracing_count\u001b[0m\u001b[0;34m(\u001b[0m\u001b[0;34m)\u001b[0m\u001b[0;34m\u001b[0m\u001b[0;34m\u001b[0m\u001b[0m\n\u001b[1;32m    827\u001b[0m     \u001b[0;32mwith\u001b[0m \u001b[0mtrace\u001b[0m\u001b[0;34m.\u001b[0m\u001b[0mTrace\u001b[0m\u001b[0;34m(\u001b[0m\u001b[0mself\u001b[0m\u001b[0;34m.\u001b[0m\u001b[0m_name\u001b[0m\u001b[0;34m)\u001b[0m \u001b[0;32mas\u001b[0m \u001b[0mtm\u001b[0m\u001b[0;34m:\u001b[0m\u001b[0;34m\u001b[0m\u001b[0;34m\u001b[0m\u001b[0m\n\u001b[0;32m--> 828\u001b[0;31m       \u001b[0mresult\u001b[0m \u001b[0;34m=\u001b[0m \u001b[0mself\u001b[0m\u001b[0;34m.\u001b[0m\u001b[0m_call\u001b[0m\u001b[0;34m(\u001b[0m\u001b[0;34m*\u001b[0m\u001b[0margs\u001b[0m\u001b[0;34m,\u001b[0m \u001b[0;34m**\u001b[0m\u001b[0mkwds\u001b[0m\u001b[0;34m)\u001b[0m\u001b[0;34m\u001b[0m\u001b[0;34m\u001b[0m\u001b[0m\n\u001b[0m\u001b[1;32m    829\u001b[0m       \u001b[0mcompiler\u001b[0m \u001b[0;34m=\u001b[0m \u001b[0;34m\"xla\"\u001b[0m \u001b[0;32mif\u001b[0m \u001b[0mself\u001b[0m\u001b[0;34m.\u001b[0m\u001b[0m_experimental_compile\u001b[0m \u001b[0;32melse\u001b[0m \u001b[0;34m\"nonXla\"\u001b[0m\u001b[0;34m\u001b[0m\u001b[0;34m\u001b[0m\u001b[0m\n\u001b[1;32m    830\u001b[0m       \u001b[0mnew_tracing_count\u001b[0m \u001b[0;34m=\u001b[0m \u001b[0mself\u001b[0m\u001b[0;34m.\u001b[0m\u001b[0mexperimental_get_tracing_count\u001b[0m\u001b[0;34m(\u001b[0m\u001b[0;34m)\u001b[0m\u001b[0;34m\u001b[0m\u001b[0;34m\u001b[0m\u001b[0m\n",
      "\u001b[0;32m/opt/conda/lib/python3.7/site-packages/tensorflow/python/eager/def_function.py\u001b[0m in \u001b[0;36m_call\u001b[0;34m(self, *args, **kwds)\u001b[0m\n\u001b[1;32m    853\u001b[0m       \u001b[0;31m# In this case we have created variables on the first call, so we run the\u001b[0m\u001b[0;34m\u001b[0m\u001b[0;34m\u001b[0m\u001b[0;34m\u001b[0m\u001b[0m\n\u001b[1;32m    854\u001b[0m       \u001b[0;31m# defunned version which is guaranteed to never create variables.\u001b[0m\u001b[0;34m\u001b[0m\u001b[0;34m\u001b[0m\u001b[0;34m\u001b[0m\u001b[0m\n\u001b[0;32m--> 855\u001b[0;31m       \u001b[0;32mreturn\u001b[0m \u001b[0mself\u001b[0m\u001b[0;34m.\u001b[0m\u001b[0m_stateless_fn\u001b[0m\u001b[0;34m(\u001b[0m\u001b[0;34m*\u001b[0m\u001b[0margs\u001b[0m\u001b[0;34m,\u001b[0m \u001b[0;34m**\u001b[0m\u001b[0mkwds\u001b[0m\u001b[0;34m)\u001b[0m  \u001b[0;31m# pylint: disable=not-callable\u001b[0m\u001b[0;34m\u001b[0m\u001b[0;34m\u001b[0m\u001b[0m\n\u001b[0m\u001b[1;32m    856\u001b[0m     \u001b[0;32melif\u001b[0m \u001b[0mself\u001b[0m\u001b[0;34m.\u001b[0m\u001b[0m_stateful_fn\u001b[0m \u001b[0;32mis\u001b[0m \u001b[0;32mnot\u001b[0m \u001b[0;32mNone\u001b[0m\u001b[0;34m:\u001b[0m\u001b[0;34m\u001b[0m\u001b[0;34m\u001b[0m\u001b[0m\n\u001b[1;32m    857\u001b[0m       \u001b[0;31m# Release the lock early so that multiple threads can perform the call\u001b[0m\u001b[0;34m\u001b[0m\u001b[0;34m\u001b[0m\u001b[0;34m\u001b[0m\u001b[0m\n",
      "\u001b[0;32m/opt/conda/lib/python3.7/site-packages/tensorflow/python/eager/function.py\u001b[0m in \u001b[0;36m__call__\u001b[0;34m(self, *args, **kwargs)\u001b[0m\n\u001b[1;32m   2941\u001b[0m        filtered_flat_args) = self._maybe_define_function(args, kwargs)\n\u001b[1;32m   2942\u001b[0m     return graph_function._call_flat(\n\u001b[0;32m-> 2943\u001b[0;31m         filtered_flat_args, captured_inputs=graph_function.captured_inputs)  # pylint: disable=protected-access\n\u001b[0m\u001b[1;32m   2944\u001b[0m \u001b[0;34m\u001b[0m\u001b[0m\n\u001b[1;32m   2945\u001b[0m   \u001b[0;34m@\u001b[0m\u001b[0mproperty\u001b[0m\u001b[0;34m\u001b[0m\u001b[0;34m\u001b[0m\u001b[0m\n",
      "\u001b[0;32m/opt/conda/lib/python3.7/site-packages/tensorflow/python/eager/function.py\u001b[0m in \u001b[0;36m_call_flat\u001b[0;34m(self, args, captured_inputs, cancellation_manager)\u001b[0m\n\u001b[1;32m   1917\u001b[0m       \u001b[0;31m# No tape is watching; skip to running the function.\u001b[0m\u001b[0;34m\u001b[0m\u001b[0;34m\u001b[0m\u001b[0;34m\u001b[0m\u001b[0m\n\u001b[1;32m   1918\u001b[0m       return self._build_call_outputs(self._inference_function.call(\n\u001b[0;32m-> 1919\u001b[0;31m           ctx, args, cancellation_manager=cancellation_manager))\n\u001b[0m\u001b[1;32m   1920\u001b[0m     forward_backward = self._select_forward_and_backward_functions(\n\u001b[1;32m   1921\u001b[0m         \u001b[0margs\u001b[0m\u001b[0;34m,\u001b[0m\u001b[0;34m\u001b[0m\u001b[0;34m\u001b[0m\u001b[0m\n",
      "\u001b[0;32m/opt/conda/lib/python3.7/site-packages/tensorflow/python/eager/function.py\u001b[0m in \u001b[0;36mcall\u001b[0;34m(self, ctx, args, cancellation_manager)\u001b[0m\n\u001b[1;32m    558\u001b[0m               \u001b[0minputs\u001b[0m\u001b[0;34m=\u001b[0m\u001b[0margs\u001b[0m\u001b[0;34m,\u001b[0m\u001b[0;34m\u001b[0m\u001b[0;34m\u001b[0m\u001b[0m\n\u001b[1;32m    559\u001b[0m               \u001b[0mattrs\u001b[0m\u001b[0;34m=\u001b[0m\u001b[0mattrs\u001b[0m\u001b[0;34m,\u001b[0m\u001b[0;34m\u001b[0m\u001b[0;34m\u001b[0m\u001b[0m\n\u001b[0;32m--> 560\u001b[0;31m               ctx=ctx)\n\u001b[0m\u001b[1;32m    561\u001b[0m         \u001b[0;32melse\u001b[0m\u001b[0;34m:\u001b[0m\u001b[0;34m\u001b[0m\u001b[0;34m\u001b[0m\u001b[0m\n\u001b[1;32m    562\u001b[0m           outputs = execute.execute_with_cancellation(\n",
      "\u001b[0;32m/opt/conda/lib/python3.7/site-packages/tensorflow/python/eager/execute.py\u001b[0m in \u001b[0;36mquick_execute\u001b[0;34m(op_name, num_outputs, inputs, attrs, ctx, name)\u001b[0m\n\u001b[1;32m     58\u001b[0m     \u001b[0mctx\u001b[0m\u001b[0;34m.\u001b[0m\u001b[0mensure_initialized\u001b[0m\u001b[0;34m(\u001b[0m\u001b[0;34m)\u001b[0m\u001b[0;34m\u001b[0m\u001b[0;34m\u001b[0m\u001b[0m\n\u001b[1;32m     59\u001b[0m     tensors = pywrap_tfe.TFE_Py_Execute(ctx._handle, device_name, op_name,\n\u001b[0;32m---> 60\u001b[0;31m                                         inputs, attrs, num_outputs)\n\u001b[0m\u001b[1;32m     61\u001b[0m   \u001b[0;32mexcept\u001b[0m \u001b[0mcore\u001b[0m\u001b[0;34m.\u001b[0m\u001b[0m_NotOkStatusException\u001b[0m \u001b[0;32mas\u001b[0m \u001b[0me\u001b[0m\u001b[0;34m:\u001b[0m\u001b[0;34m\u001b[0m\u001b[0;34m\u001b[0m\u001b[0m\n\u001b[1;32m     62\u001b[0m     \u001b[0;32mif\u001b[0m \u001b[0mname\u001b[0m \u001b[0;32mis\u001b[0m \u001b[0;32mnot\u001b[0m \u001b[0;32mNone\u001b[0m\u001b[0;34m:\u001b[0m\u001b[0;34m\u001b[0m\u001b[0;34m\u001b[0m\u001b[0m\n",
      "\u001b[0;31mKeyboardInterrupt\u001b[0m: "
     ]
    }
   ],
   "source": [
    "#model pars\n",
    "model_cfg = {\n",
    "    \"learning_rate\": lr/2,\n",
    "    \"n_classes\": n_classes,\n",
    "    \"keep_prob\": 0.8,\n",
    "    \"metrics\": [\"accuracy\",\"precision\",\"recall\"],\n",
    "    \"loss\": \"focal_loss\",\n",
    "    \"num_heads\": 4,\n",
    "    \"num_layers\": 2,\n",
    "    \"d_model\": 128,\n",
    "    \"layer_norm\": False,\n",
    "    \"num_dff\":256\n",
    "}\n",
    "\n",
    "# rubn model\n",
    "model_trans = TransformerEncoder(model_cfg)\n",
    "model_trans.build(input_shape)\n",
    "model_trans.prepare()\n",
    "model_trans.train_and_evaluate(\n",
    "    train_dataset=dataset,\n",
    "    val_dataset=valDataset,\n",
    "    num_epochs=epochs,\n",
    "    iterations_per_epoch=steps,\n",
    "    model_directory=model_directory,\n",
    "    save_steps='epoch',\n",
    "    summary_steps='epoch',\n",
    "    verbose=0\n",
    ")"
   ]
  },
  {
   "cell_type": "markdown",
   "metadata": {},
   "source": [
    "## Random Forest"
   ]
  },
  {
   "cell_type": "code",
   "execution_count": 13,
   "metadata": {},
   "outputs": [
    {
     "ename": "NameError",
     "evalue": "name 'RandomForestClassifier' is not defined",
     "output_type": "error",
     "traceback": [
      "\u001b[0;31m---------------------------------------------------------------------------\u001b[0m",
      "\u001b[0;31mNameError\u001b[0m                                 Traceback (most recent call last)",
      "\u001b[0;32m<ipython-input-13-74157f74f719>\u001b[0m in \u001b[0;36m<module>\u001b[0;34m\u001b[0m\n\u001b[1;32m     57\u001b[0m \u001b[0mrf_data\u001b[0m \u001b[0;34m=\u001b[0m \u001b[0;34m(\u001b[0m\u001b[0mxtr_flat\u001b[0m\u001b[0;34m,\u001b[0m\u001b[0mlabeltr\u001b[0m\u001b[0;34m,\u001b[0m\u001b[0mxval_flat\u001b[0m\u001b[0;34m,\u001b[0m\u001b[0mlabelval\u001b[0m\u001b[0;34m)\u001b[0m\u001b[0;34m\u001b[0m\u001b[0;34m\u001b[0m\u001b[0m\n\u001b[1;32m     58\u001b[0m \u001b[0;34m\u001b[0m\u001b[0m\n\u001b[0;32m---> 59\u001b[0;31m \u001b[0mmodel_rf\u001b[0m \u001b[0;34m=\u001b[0m \u001b[0mRandomForestClassifier\u001b[0m\u001b[0;34m(\u001b[0m\u001b[0mn_estimators\u001b[0m \u001b[0;34m=\u001b[0m \u001b[0;36m100\u001b[0m\u001b[0;34m,\u001b[0m \u001b[0mmax_features\u001b[0m \u001b[0;34m=\u001b[0m \u001b[0;34m'auto'\u001b[0m\u001b[0;34m,\u001b[0m \u001b[0mmin_samples_split\u001b[0m \u001b[0;34m=\u001b[0m \u001b[0;36m4\u001b[0m\u001b[0;34m,\u001b[0m \u001b[0mrandom_state\u001b[0m \u001b[0;34m=\u001b[0m \u001b[0;36m42\u001b[0m\u001b[0;34m)\u001b[0m\u001b[0;34m\u001b[0m\u001b[0;34m\u001b[0m\u001b[0m\n\u001b[0m\u001b[1;32m     60\u001b[0m \u001b[0mmodel_rf\u001b[0m\u001b[0;34m.\u001b[0m\u001b[0mfit\u001b[0m\u001b[0;34m(\u001b[0m\u001b[0mrf_data\u001b[0m\u001b[0;34m[\u001b[0m\u001b[0;36m0\u001b[0m\u001b[0;34m]\u001b[0m\u001b[0;34m,\u001b[0m \u001b[0mrf_data\u001b[0m\u001b[0;34m[\u001b[0m\u001b[0;36m1\u001b[0m\u001b[0;34m]\u001b[0m\u001b[0;34m)\u001b[0m\u001b[0;34m\u001b[0m\u001b[0;34m\u001b[0m\u001b[0m\n\u001b[1;32m     61\u001b[0m \u001b[0my_pred\u001b[0m \u001b[0;34m=\u001b[0m \u001b[0mmodel_rf\u001b[0m\u001b[0;34m.\u001b[0m\u001b[0mpredict\u001b[0m\u001b[0;34m(\u001b[0m\u001b[0mrf_data\u001b[0m\u001b[0;34m[\u001b[0m\u001b[0;36m2\u001b[0m\u001b[0;34m]\u001b[0m\u001b[0;34m)\u001b[0m\u001b[0;34m\u001b[0m\u001b[0;34m\u001b[0m\u001b[0m\n",
      "\u001b[0;31mNameError\u001b[0m: name 'RandomForestClassifier' is not defined"
     ]
    }
   ],
   "source": [
    "dataset = tf.data.TFRecordDataset(trainFilePath, compression_type='GZIP')\\\n",
    ".map(lambda x: parse_tfrecord(x,featuresDict))\\\n",
    ".flat_map(lambda x: shift_window(x, WINDOW/3, len(allbands)+1))\\\n",
    ".map(lambda x: reshape_ts(x, featureNames))\\\n",
    ".map(lambda x: labeller(x, label))\\\n",
    ".filter(filter_fn)\\\n",
    ".map(lambda x: standardize(x, Min,Max))\\\n",
    ".map(lambda x: poplabint(x, label))\\\n",
    ".map(lambda x, lab: toTuple(x, lab))\\\n",
    ".batch(1)\n",
    "\n",
    "valDataset = tf.data.TFRecordDataset(validFilePath, compression_type='GZIP')\\\n",
    ".map(lambda x: parse_tfrecord(x,featuresDict))\\\n",
    ".flat_map(lambda x: shift_window(x, WINDOW/3, len(allbands)+1))\\\n",
    ".map(lambda x: reshape_ts(x, featureNames))\\\n",
    ".map(lambda x: labeller(x, label))\\\n",
    ".filter(filter_fn)\\\n",
    ".map(lambda x: standardize(x, Min,Max))\\\n",
    ".map(lambda x: poplabint(x, label))\\\n",
    ".map(lambda x, lab: toTuple(x, lab))\\\n",
    ".batch(1)\n",
    "\n",
    "tlab = list(dataset\\\n",
    ".map(lambda x,lab: lab)\\\n",
    ".as_numpy_iterator())\n",
    "trainy=list(tlab)\n",
    "\n",
    "tdat = list(dataset\\\n",
    ".map(lambda x,lab: x)\\\n",
    ".as_numpy_iterator())\n",
    "trainx=list(tdat)\n",
    "\n",
    "vallab = list(valDataset\\\n",
    ".map(lambda x,lab: lab)\\\n",
    ".as_numpy_iterator())\n",
    "valy=list(vallab)\n",
    "\n",
    "valdat = list(valDataset\\\n",
    ".map(lambda x,lab: x)\\\n",
    ".as_numpy_iterator())\n",
    "valx=list(valdat)\n",
    "\n",
    "labelval = np.vstack(valy)\n",
    "labelval = np.argmax(labelval,axis=1)\n",
    "\n",
    "xval = np.vstack(valx)\n",
    "xval = np.transpose(xval, (0, 2, 1))\n",
    "xval_flat = xval.reshape(xval.shape[0],(xval.shape[1]*xval.shape[2]))\n",
    "\n",
    "labeltr = np.vstack(trainy)\n",
    "labeltr = np.argmax(labeltr,axis=1)\n",
    "\n",
    "xtr = np.vstack(trainx)\n",
    "xtr = np.transpose(xtr, (0, 2, 1))\n",
    "xtr_flat = xtr.reshape(xtr.shape[0],(xtr.shape[1]*xtr.shape[2]))\n",
    "\n",
    "rf_data = (xtr_flat,labeltr,xval_flat,labelval)\n",
    "\n",
    "model_rf = RandomForestClassifier(n_estimators = 100, max_features = 'auto', min_samples_split = 4, random_state = 42)\n",
    "model_rf.fit(rf_data[0], rf_data[1])\n",
    "y_pred = model_rf.predict(rf_data[2])\n",
    "result = metrics.f1_score(rf_data[3],y_pred)"
   ]
  },
  {
   "cell_type": "code",
   "execution_count": null,
   "metadata": {},
   "outputs": [],
   "source": [
    "result"
   ]
  },
  {
   "cell_type": "markdown",
   "metadata": {},
   "source": [
    "# test data"
   ]
  },
  {
   "cell_type": "code",
   "execution_count": 26,
   "metadata": {},
   "outputs": [],
   "source": [
    "# List of fixed-length features, all of which are float32.\n",
    "testcolumns = [\n",
    "  tf.io.FixedLenFeature(shape=[testLength], dtype=tf.float32) \n",
    "    for k in testNames\n",
    "]\n",
    "# Dictionary with names as keys, features as values.\n",
    "testfeaturesDict = dict(zip(testNames, testcolumns))"
   ]
  },
  {
   "cell_type": "code",
   "execution_count": 27,
   "metadata": {},
   "outputs": [],
   "source": [
    "testDataset = tf.data.TFRecordDataset(testFilePath, compression_type='GZIP')\\\n",
    ".map(lambda x: parse_tfrecord(x,testfeaturesDict))\\\n",
    ".flat_map(lambda x: shift_window(x, 1, len(testNames)))\\\n",
    ".map(lambda x: reshape_ts(x, testNames))\\\n",
    ".map(lambda x: labeller(x, label))\\\n",
    ".filter(filter_fn)\\\n",
    ".map(lambda x: popkey(x,['ndvi_diff','roll','count']))\\\n",
    ".map(lambda x: standardize(x, Min,Max))\\\n",
    ".map(lambda x: poplabint(x, label))\\\n",
    ".map(lambda x, lab: toTuple(x, lab))\\\n",
    ".batch(batch_size)"
   ]
  },
  {
   "cell_type": "code",
   "execution_count": 28,
   "metadata": {},
   "outputs": [
    {
     "data": {
      "image/png": "[encoded data removed]",
      "text/plain": [
       "<Figure size 576x432 with 2 Axes>"
      ]
     },
     "metadata": {
      "needs_background": "light"
     },
     "output_type": "display_data"
    }
   ],
   "source": [
    "predictions = model_cnn.predict(testDataset)\n",
    "pred_y = np.argmax(predictions,axis=1)\n",
    "\n",
    "y_obs = testDataset\\\n",
    ".map(lambda x,lab: lab)\\\n",
    ".as_numpy_iterator()\n",
    "\n",
    "y_obs = list(y_obs)\n",
    "\n",
    "y_obs = np.vstack(y_obs)\n",
    "y_obs = np.argmax(y_obs,axis=1)\n",
    "\n",
    "con_mat = tf.math.confusion_matrix(labels=y_obs, predictions=pred_y).numpy()\n",
    "\n",
    "plot_confusion_matrix(cm = con_mat, \n",
    "                      normalize    = False,\n",
    "                      target_names = ['Renosterveld', 'Recent change'],\n",
    "                      title        = \"Confusion Matrix\")"
   ]
  },
  {
   "cell_type": "code",
   "execution_count": null,
   "metadata": {},
   "outputs": [],
   "source": [
    "result = metrics.f1_score(y_obs,pred_y)"
   ]
  },
  {
   "cell_type": "code",
   "execution_count": 28,
   "metadata": {},
   "outputs": [
    {
     "data": {
      "image/png": "[encoded data removed]",
      "text/plain": [
       "<Figure size 576x432 with 2 Axes>"
      ]
     },
     "metadata": {
      "needs_background": "light"
     },
     "output_type": "display_data"
    }
   ],
   "source": [
    "predictions = model_trans.predict(testDataset)\n",
    "pred_y = np.argmax(predictions,axis=1)\n",
    "\n",
    "y_obs = testDataset\\\n",
    ".map(lambda x,lab: lab)\\\n",
    ".as_numpy_iterator()\n",
    "\n",
    "y_obs = list(y_obs)\n",
    "\n",
    "y_obs = np.vstack(y_obs)\n",
    "y_obs = np.argmax(y_obs,axis=1)\n",
    "\n",
    "con_mat = tf.math.confusion_matrix(labels=y_obs, predictions=pred_y).numpy()\n",
    "\n",
    "plot_confusion_matrix(cm = con_mat, \n",
    "                      normalize    = False,\n",
    "                      target_names = ['Renosterveld', 'Recent change'],\n",
    "                      title        = \"Confusion Matrix\")"
   ]
  },
  {
   "cell_type": "code",
   "execution_count": null,
   "metadata": {},
   "outputs": [],
   "source": [
    "result = metrics.f1_score(y_obs,pred_y)"
   ]
  },
  {
   "cell_type": "code",
   "execution_count": 32,
   "metadata": {},
   "outputs": [],
   "source": [
    "pred_y =  tf.data.TFRecordDataset(testFilePath, compression_type='GZIP')\\\n",
    ".map(lambda x: parse_tfrecord(x,testfeaturesDict))\\\n",
    ".flat_map(lambda x: shift_window(x, 1, len(testNames)))\\\n",
    ".map(lambda x: reshape_ts(x, testNames))\\\n",
    ".map(lambda x: labeller(x, label))\\\n",
    ".map(lambda x: labeller(x, 'roll'))\\\n",
    ".filter(filter_fn)\\\n",
    ".map(lambda x: poplabint(x, 'roll'))\\\n",
    ".batch(batch_size)\\\n",
    ".map(lambda x,lab: lab)\\\n",
    ".as_numpy_iterator()"
   ]
  },
  {
   "cell_type": "code",
   "execution_count": 33,
   "metadata": {},
   "outputs": [
    {
     "data": {
      "image/png": "[encoded data removed]",
      "text/plain": [
       "<Figure size 576x432 with 2 Axes>"
      ]
     },
     "metadata": {
      "needs_background": "light"
     },
     "output_type": "display_data"
    }
   ],
   "source": [
    "pred_y = list(pred_y)\n",
    "pred_y = np.vstack(pred_y)\n",
    "\n",
    "y_obs = testDataset\\\n",
    ".map(lambda x,lab: lab)\\\n",
    ".as_numpy_iterator()\n",
    "\n",
    "y_obs = list(y_obs)\n",
    "\n",
    "y_obs = np.vstack(y_obs)\n",
    "y_obs = np.argmax(y_obs,axis=1)\n",
    "\n",
    "con_mat = tf.math.confusion_matrix(labels=y_obs, predictions=pred_y).numpy()\n",
    "\n",
    "plot_confusion_matrix(cm = con_mat, \n",
    "                      normalize    = False,\n",
    "                      target_names = ['Renosterveld', 'Recent change'],\n",
    "                      title        = \"Confusion Matrix\")"
   ]
  },
  {
   "cell_type": "code",
   "execution_count": null,
   "metadata": {},
   "outputs": [],
   "source": [
    "testDataset = tf.data.TFRecordDataset(testFilePath, compression_type='GZIP')\\\n",
    ".map(lambda x: parse_tfrecord(x,testfeaturesDict))\\\n",
    ".flat_map(lambda x: shift_window(x, 1, len(testNames)))\\\n",
    ".map(lambda x: reshape_ts(x, testNames))\\\n",
    ".map(lambda x: labeller(x, label))\\\n",
    ".filter(filter_fn)\\\n",
    ".map(lambda x: popkey(x,['ndvi_diff','roll','count']))\\\n",
    ".map(lambda x: standardize(x, Min,Max))\\\n",
    ".map(lambda x: poplabint(x, label))\\\n",
    ".map(lambda x, lab: toTuple(x, lab))\\\n",
    ".batch(1)\n",
    "\n",
    "vallab = list(testDataset\\\n",
    ".map(lambda x,lab: lab)\\\n",
    ".as_numpy_iterator())\n",
    "valy=list(vallab)\n",
    "\n",
    "valdat = list(testDataset\\\n",
    ".map(lambda x,lab: x)\\\n",
    ".as_numpy_iterator())\n",
    "valx=list(valdat)\n",
    "\n",
    "labelval = np.vstack(valy)\n",
    "labelval = np.argmax(labelval,axis=1)\n",
    "\n",
    "xval = np.vstack(valx)\n",
    "xval = np.transpose(xval, (0, 2, 1))\n",
    "xval_flat = xval.reshape(xval.shape[0],(xval.shape[1]*xval.shape[2]))\n",
    "\n",
    "rf_data = (xval_flat,labelval)\n",
    "\n",
    "y_pred = model_rf.predict(rf_data[0])\n",
    "result = metrics.f1_score(rf_data[1],y_pred)"
   ]
  },
  {
   "cell_type": "code",
   "execution_count": null,
   "metadata": {},
   "outputs": [],
   "source": [
    "con_mat = tf.math.confusion_matrix(labels=labelval, predictions=y_pred).numpy()\n",
    "\n",
    "plot_confusion_matrix(cm = con_mat, \n",
    "                      normalize    = False,\n",
    "                      target_names = ['Renosterveld', 'Recent change'],\n",
    "                      title        = \"Confusion Matrix\")"
   ]
  }
 ],
 "metadata": {
  "environment": {
   "name": "tf2-gpu.2-4.mnightly-2021-01-20-debian-10-test",
   "type": "gcloud",
   "uri": "gcr.io/deeplearning-platform-release/tf2-gpu.2-4:mnightly-2021-01-20-debian-10-test"
  },
  "kernelspec": {
   "display_name": "Python [conda env:root] *",
   "language": "python",
   "name": "conda-root-py"
  },
  "language_info": {
   "codemirror_mode": {
    "name": "ipython",
    "version": 3
   },
   "file_extension": ".py",
   "mimetype": "text/x-python",
   "name": "python",
   "nbconvert_exporter": "python",
   "pygments_lexer": "ipython3",
   "version": "3.7.9"
  }
 },
 "nbformat": 4,
 "nbformat_minor": 4
}
