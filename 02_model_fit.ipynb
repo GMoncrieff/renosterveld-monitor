{
 "cells": [
  {
   "cell_type": "code",
   "execution_count": null,
   "metadata": {},
   "outputs": [],
   "source": [
    "import ee\n",
    "try:\n",
    "    ee.Initialize()\n",
    "except Exception as e:\n",
    "    ee.Authenticate()\n",
    "    ee.Initialize()"
   ]
  },
  {
   "cell_type": "code",
   "execution_count": null,
   "metadata": {},
   "outputs": [],
   "source": [
    "import tensorflow as tf\n",
    "import json\n",
    "from eoflow.models import TransformerEncoder, TempCNNModel, PseTae\n",
    "from utils.tf_data_utils import *\n",
    "from utils.globals import *"
   ]
  },
  {
   "cell_type": "code",
   "execution_count": 12,
   "metadata": {},
   "outputs": [],
   "source": [
    "with open('data/max.json') as f:\n",
    "  Max = json.load(f)\n",
    "\n",
    "with open('data/min.json') as f:\n",
    "  Min = json.load(f)"
   ]
  },
  {
   "cell_type": "code",
   "execution_count": 13,
   "metadata": {},
   "outputs": [],
   "source": [
    "trainFilePath = 'data/Training_reno_cnn.tfrecord.gz'\n",
    "testFilePath = 'data/Testing_reno_cnn.tfrecord.gz'\n",
    "validFilePath = 'data/Valid_reno_cnn.tfrecord.gz'"
   ]
  },
  {
   "cell_type": "code",
   "execution_count": 14,
   "metadata": {},
   "outputs": [],
   "source": [
    "# List of fixed-length features, all of which are float32.\n",
    "columns = [\n",
    "  tf.io.FixedLenFeature(shape=[tsLength], dtype=tf.float32) \n",
    "    for k in featureNames\n",
    "]\n",
    "# Dictionary with names as keys, features as values.\n",
    "featuresDict = dict(zip(featureNames, columns))"
   ]
  },
  {
   "cell_type": "markdown",
   "metadata": {},
   "source": [
    "# plot time"
   ]
  },
  {
   "cell_type": "code",
   "execution_count": 7,
   "metadata": {},
   "outputs": [
    {
     "data": {
      "image/png": "[encoded data removed]",
      "text/plain": [
       "<Figure size 432x288 with 1 Axes>"
      ]
     },
     "metadata": {
      "needs_background": "light"
     },
     "output_type": "display_data"
    }
   ],
   "source": [
    "dataset0 = tf.data.TFRecordDataset(trainFilePath, compression_type='GZIP')\\\n",
    ".map(lambda x: parse_tfrecord(x,featuresDict))\\\n",
    ".flat_map(lambda x: shift_window(x, WINDOW/3,len(allbands)+1))\\\n",
    ".map(lambda x: reshape_ts(x, featureNames))\\\n",
    ".map(lambda x: labeller(x, label))\\\n",
    ".filter(filter_fn0)\n",
    "\n",
    "y = iter(dataset0.shuffle(buffer_size=100000, seed=42).batch(5)).next()\n",
    "y = y['ndvi'].numpy().transpose()\n",
    "x = np.arange(1, 19, 1)\n",
    "\n",
    "plt.plot(x, y,color='blue',alpha=0.5)\n",
    "plt.ylabel('NDVI')\n",
    "plt.ylim(0,1)\n",
    "plt.show()"
   ]
  },
  {
   "cell_type": "code",
   "execution_count": null,
   "metadata": {},
   "outputs": [],
   "source": [
    "dataset1 = tf.data.TFRecordDataset(trainFilePath, compression_type='GZIP')\\\n",
    ".map(lambda x: parse_tfrecord(x,featuresDict))\\\n",
    ".flat_map(lambda x: shift_window(x, WINDOW/3,len(allbands)+1))\\\n",
    ".map(lambda x: reshape_ts(x, featureNames))\\\n",
    ".map(lambda x: labeller(x, label))\\\n",
    ".filter(filter_fn1)\n",
    "\n",
    "y = iter(dataset1.shuffle(buffer_size=100000, seed=42).batch(5)).next()\n",
    "y = y['ndvi'].numpy().transpose()\n",
    "x = np.arange(1, 19, 1)\n",
    "\n",
    "plt.plot(x, y,color='blue',alpha=0.5)\n",
    "plt.ylabel('NDVI')\n",
    "plt.ylim(0,1)\n",
    "plt.show()"
   ]
  },
  {
   "cell_type": "markdown",
   "metadata": {},
   "source": [
    "# data"
   ]
  },
  {
   "cell_type": "code",
   "execution_count": 20,
   "metadata": {},
   "outputs": [],
   "source": [
    "dataset = tf.data.TFRecordDataset(trainFilePath, compression_type='GZIP')\\\n",
    ".map(lambda x: parse_tfrecord(x,featuresDict))\\\n",
    ".flat_map(lambda x: shift_window(x, WINDOW/3, len(allbands)+1))\\\n",
    ".map(lambda x: reshape_ts(x, featureNames))\\\n",
    ".map(lambda x: labeller(x, label))\\\n",
    ".filter(filter_fn)\\\n",
    ".map(lambda x: standardize(x, Min,Max))\\\n",
    ".map(lambda x: poplabint(x, label))\\\n",
    ".map(lambda x, lab: toTuple(x, lab))\\\n",
    ".shuffle(buffer_size=buff, seed=42)\\\n",
    ".repeat()\\\n",
    ".batch(batch_size)"
   ]
  },
  {
   "cell_type": "code",
   "execution_count": 21,
   "metadata": {},
   "outputs": [],
   "source": [
    "valDataset = tf.data.TFRecordDataset(validFilePath, compression_type='GZIP')\\\n",
    ".map(lambda x: parse_tfrecord(x,featuresDict))\\\n",
    ".flat_map(lambda x: shift_window(x, WINDOW/3, len(allbands)+1))\\\n",
    ".map(lambda x: reshape_ts(x, featureNames))\\\n",
    ".map(lambda x: labeller(x, label))\\\n",
    ".filter(filter_fn)\\\n",
    ".map(lambda x: standardize(x, Min,Max))\\\n",
    ".map(lambda x: poplabint(x, label))\\\n",
    ".map(lambda x, lab: toTuple(x, lab))\\\n",
    ".batch(batch_size)"
   ]
  },
  {
   "cell_type": "code",
   "execution_count": 10,
   "metadata": {},
   "outputs": [],
   "source": [
    "# Train model"
   ]
  },
  {
   "cell_type": "code",
   "execution_count": 59,
   "metadata": {},
   "outputs": [],
   "source": [
    "model_cfg = {\n",
    "    \"learning_rate\": lr,\n",
    "    \"n_classes\": n_classes,\n",
    "    \"keep_prob\": 0.8,\n",
    "    \"metrics\": [\"accuracy\",\"precision\",\"recall\"],\n",
    "    \"loss\": \"focal_loss\",\n",
    "    \"kernel_regularizer\": 1e-08,\n",
    "    \"nb_conv_filters\": 32,\n",
    "    \"nb_conv_stacks\": 3\n",
    "}\n",
    "    \n",
    "# Initialize model with configuration\n",
    "model = TempCNNModel(model_cfg)"
   ]
  },
  {
   "cell_type": "code",
   "execution_count": 60,
   "metadata": {},
   "outputs": [
    {
     "name": "stdout",
     "output_type": "stream",
     "text": [
      "Model: \"model_3\"\n",
      "_________________________________________________________________\n",
      "Layer (type)                 Output Shape              Param #   \n",
      "=================================================================\n",
      "input_6 (InputLayer)         [(None, 18, 18)]          0         \n",
      "_________________________________________________________________\n",
      "conv1d_9 (Conv1D)            (None, 18, 32)            2912      \n",
      "_________________________________________________________________\n",
      "activation_12 (Activation)   (None, 18, 32)            0         \n",
      "_________________________________________________________________\n",
      "dropout_12 (Dropout)         (None, 18, 32)            0         \n",
      "_________________________________________________________________\n",
      "conv1d_10 (Conv1D)           (None, 18, 32)            5152      \n",
      "_________________________________________________________________\n",
      "activation_13 (Activation)   (None, 18, 32)            0         \n",
      "_________________________________________________________________\n",
      "dropout_13 (Dropout)         (None, 18, 32)            0         \n",
      "_________________________________________________________________\n",
      "conv1d_11 (Conv1D)           (None, 18, 32)            5152      \n",
      "_________________________________________________________________\n",
      "activation_14 (Activation)   (None, 18, 32)            0         \n",
      "_________________________________________________________________\n",
      "dropout_14 (Dropout)         (None, 18, 32)            0         \n",
      "_________________________________________________________________\n",
      "flatten_3 (Flatten)          (None, 576)               0         \n",
      "_________________________________________________________________\n",
      "dense_6 (Dense)              (None, 256)               147712    \n",
      "_________________________________________________________________\n",
      "activation_15 (Activation)   (None, 256)               0         \n",
      "_________________________________________________________________\n",
      "dropout_15 (Dropout)         (None, 256)               0         \n",
      "_________________________________________________________________\n",
      "dense_7 (Dense)              (None, 2)                 514       \n",
      "_________________________________________________________________\n",
      "softmax_3 (Softmax)          (None, 2)                 0         \n",
      "=================================================================\n",
      "Total params: 161,442\n",
      "Trainable params: 161,442\n",
      "Non-trainable params: 0\n",
      "_________________________________________________________________\n"
     ]
    }
   ],
   "source": [
    "model.build(input_shape)"
   ]
  },
  {
   "cell_type": "code",
   "execution_count": 61,
   "metadata": {},
   "outputs": [],
   "source": [
    "\n",
    "model.prepare()\n",
    "\n"
   ]
  },
  {
   "cell_type": "code",
   "execution_count": 62,
   "metadata": {},
   "outputs": [
    {
     "name": "stdout",
     "output_type": "stream",
     "text": [
      "Epoch 1/3\n",
      "Model: \"model\"\n",
      "_________________________________________________________________\n",
      "Layer (type)                 Output Shape              Param #   \n",
      "=================================================================\n",
      "input_7 (InputLayer)         [(None, 18, 18)]          0         \n",
      "_________________________________________________________________\n",
      "conv1d (Conv1D)              (None, 18, 32)            2912      \n",
      "_________________________________________________________________\n",
      "activation (Activation)      (None, 18, 32)            0         \n",
      "_________________________________________________________________\n",
      "dropout (Dropout)            (None, 18, 32)            0         \n",
      "_________________________________________________________________\n",
      "conv1d_1 (Conv1D)            (None, 18, 32)            5152      \n",
      "_________________________________________________________________\n",
      "activation_1 (Activation)    (None, 18, 32)            0         \n",
      "_________________________________________________________________\n",
      "dropout_1 (Dropout)          (None, 18, 32)            0         \n",
      "_________________________________________________________________\n",
      "conv1d_2 (Conv1D)            (None, 18, 32)            5152      \n",
      "_________________________________________________________________\n",
      "activation_2 (Activation)    (None, 18, 32)            0         \n",
      "_________________________________________________________________\n",
      "dropout_2 (Dropout)          (None, 18, 32)            0         \n",
      "_________________________________________________________________\n",
      "flatten (Flatten)            (None, 576)               0         \n",
      "_________________________________________________________________\n",
      "dense (Dense)                (None, 256)               147712    \n",
      "_________________________________________________________________\n",
      "activation_3 (Activation)    (None, 256)               0         \n",
      "_________________________________________________________________\n",
      "dropout_3 (Dropout)          (None, 256)               0         \n",
      "_________________________________________________________________\n",
      "dense_1 (Dense)              (None, 2)                 514       \n",
      "_________________________________________________________________\n",
      "softmax (Softmax)            (None, 2)                 0         \n",
      "=================================================================\n",
      "Total params: 161,442\n",
      "Trainable params: 161,442\n",
      "Non-trainable params: 0\n",
      "_________________________________________________________________\n",
      "500/500 [==============================] - 325s 200ms/step - loss: 0.1246 - accuracy: 0.9634 - precision_0: 0.9719 - precision_1: 0.7408 - recall_0: 0.9901 - recall_1: 0.5072 - val_loss: 0.0496 - val_accuracy: 0.9837 - val_precision_0: 0.9867 - val_precision_1: 0.8638 - val_recall_0: 0.9966 - val_recall_1: 0.6184\n",
      "Epoch 2/3\n",
      "500/500 [==============================] - 99s 198ms/step - loss: 0.0426 - accuracy: 0.9869 - precision_0: 0.9908 - precision_1: 0.9108 - recall_0: 0.9954 - recall_1: 0.8335 - val_loss: 0.0526 - val_accuracy: 0.9832 - val_precision_0: 0.9866 - val_precision_1: 0.8487 - val_recall_0: 0.9961 - val_recall_1: 0.6169\n",
      "Epoch 3/3\n",
      "500/500 [==============================] - 99s 199ms/step - loss: 0.0328 - accuracy: 0.9889 - precision_0: 0.9926 - precision_1: 0.9187 - recall_0: 0.9957 - recall_1: 0.8690 - val_loss: 0.0474 - val_accuracy: 0.9853 - val_precision_0: 0.9879 - val_precision_1: 0.8854 - val_recall_0: 0.9970 - val_recall_1: 0.6538\n"
     ]
    }
   ],
   "source": [
    "model.train_and_evaluate(\n",
    "    train_dataset=dataset,\n",
    "    val_dataset=valDataset,\n",
    "    num_epochs=epochs,\n",
    "    iterations_per_epoch=steps,\n",
    "    model_directory=model_directory,\n",
    "    save_steps='epoch',\n",
    "    summary_steps='epoch'\n",
    ")"
   ]
  },
  {
   "cell_type": "code",
   "execution_count": 63,
   "metadata": {},
   "outputs": [],
   "source": [
    "model.evaluate(valDataset,verbose=0,return_dict=True)"
   ]
  },
  {
   "cell_type": "code",
   "execution_count": null,
   "metadata": {},
   "outputs": [],
   "source": [
    "model.save('save_test')"
   ]
  },
  {
   "cell_type": "code",
   "execution_count": 65,
   "metadata": {},
   "outputs": [
    {
     "name": "stdout",
     "output_type": "stream",
     "text": [
      "INFO:tensorflow:Assets written to: save_test/assets\n"
     ]
    },
    {
     "name": "stderr",
     "output_type": "stream",
     "text": [
      "2021-04-07 09:54:51,778 INFO Assets written to: save_test/assets\n"
     ]
    }
   ],
   "source": [
    "#new_model = tf.keras.models.load_model('save_test', compile=False)\n",
    "#new_model.compile(optimizer=tf.keras.optimizers.Adam(learning_rate=lr), loss=CategoricalFocalLoss(from_logits=False, class_weights=None), metrics= [tf.keras.metrics.Precision(class_id=0, name='p_0'),tf.keras.metrics.Precision(class_id=1, name='p_1'),\n",
    "#      tf.keras.metrics.Recall(class_id=0, name='recall_0'),tf.keras.metrics.Recall(class_id=1, name='recall_1')])\n",
    "#new_model.evaluate(valDataset,verbose=0,return_dict=True)"
   ]
  },
  {
   "cell_type": "code",
   "execution_count": 25,
   "metadata": {},
   "outputs": [
    {
     "data": {
      "image/png": "[encoded data removed]",
      "text/plain": [
       "<Figure size 576x432 with 2 Axes>"
      ]
     },
     "metadata": {
      "needs_background": "light"
     },
     "output_type": "display_data"
    }
   ],
   "source": [
    "predictions = model.predict(valDataset)\n",
    "pred_y = np.argmax(predictions,axis=1)\n",
    "\n",
    "y_obs = valDataset\\\n",
    ".map(lambda x,lab: lab)\\\n",
    ".as_numpy_iterator()\n",
    "\n",
    "y_obs = list(y_obs)\n",
    "\n",
    "y_obs = np.vstack(y_obs)\n",
    "y_obs = np.argmax(y_obs,axis=1)\n",
    "\n",
    "con_mat = tf.math.confusion_matrix(labels=y_obs, predictions=pred_y).numpy()\n",
    "\n",
    "plot_confusion_matrix(cm = con_mat, \n",
    "                      normalize    = False,\n",
    "                      target_names = ['Renosterveld', 'Recent change'],\n",
    "                      title        = \"Confusion Matrix\")"
   ]
  },
  {
   "cell_type": "markdown",
   "metadata": {},
   "source": [
    "# test data"
   ]
  },
  {
   "cell_type": "code",
   "execution_count": 26,
   "metadata": {},
   "outputs": [],
   "source": [
    "# List of fixed-length features, all of which are float32.\n",
    "testcolumns = [\n",
    "  tf.io.FixedLenFeature(shape=[testLength], dtype=tf.float32) \n",
    "    for k in testNames\n",
    "]\n",
    "# Dictionary with names as keys, features as values.\n",
    "testfeaturesDict = dict(zip(testNames, testcolumns))"
   ]
  },
  {
   "cell_type": "code",
   "execution_count": 27,
   "metadata": {},
   "outputs": [],
   "source": [
    "testDataset = tf.data.TFRecordDataset(testFilePath, compression_type='GZIP')\\\n",
    ".map(lambda x: parse_tfrecord(x,testfeaturesDict))\\\n",
    ".flat_map(lambda x: shift_window(x, 1, len(testNames)))\\\n",
    ".map(lambda x: reshape_ts(x, testNames))\\\n",
    ".map(lambda x: labeller(x, label))\\\n",
    ".filter(filter_fn)\\\n",
    ".map(lambda x: popkey(x,['ndvi_diff','roll','count']))\\\n",
    ".map(lambda x: standardize(x, Min,Max))\\\n",
    ".map(lambda x: poplabint(x, label))\\\n",
    ".map(lambda x, lab: toTuple(x, lab))\\\n",
    ".batch(batch_size)"
   ]
  },
  {
   "cell_type": "code",
   "execution_count": 28,
   "metadata": {},
   "outputs": [
    {
     "data": {
      "image/png": "[encoded data removed]",
      "text/plain": [
       "<Figure size 576x432 with 2 Axes>"
      ]
     },
     "metadata": {
      "needs_background": "light"
     },
     "output_type": "display_data"
    }
   ],
   "source": [
    "predictions = model.predict(testDataset)\n",
    "pred_y = np.argmax(predictions,axis=1)\n",
    "\n",
    "y_obs = testDataset\\\n",
    ".map(lambda x,lab: lab)\\\n",
    ".as_numpy_iterator()\n",
    "\n",
    "y_obs = list(y_obs)\n",
    "\n",
    "y_obs = np.vstack(y_obs)\n",
    "y_obs = np.argmax(y_obs,axis=1)\n",
    "\n",
    "con_mat = tf.math.confusion_matrix(labels=y_obs, predictions=pred_y).numpy()\n",
    "\n",
    "plot_confusion_matrix(cm = con_mat, \n",
    "                      normalize    = False,\n",
    "                      target_names = ['Renosterveld', 'Recent change'],\n",
    "                      title        = \"Confusion Matrix\")"
   ]
  },
  {
   "cell_type": "code",
   "execution_count": 32,
   "metadata": {},
   "outputs": [],
   "source": [
    "pred_y =  tf.data.TFRecordDataset(testFilePath, compression_type='GZIP')\\\n",
    ".map(lambda x: parse_tfrecord(x,testfeaturesDict))\\\n",
    ".flat_map(lambda x: shift_window(x, 1, len(testNames)))\\\n",
    ".map(lambda x: reshape_ts(x, testNames))\\\n",
    ".map(lambda x: labeller(x, label))\\\n",
    ".map(lambda x: labeller(x, 'roll'))\\\n",
    ".filter(filter_fn)\\\n",
    ".map(lambda x: poplabint(x, 'roll'))\\\n",
    ".batch(batch_size)\\\n",
    ".map(lambda x,lab: lab)\\\n",
    ".as_numpy_iterator()"
   ]
  },
  {
   "cell_type": "code",
   "execution_count": 33,
   "metadata": {},
   "outputs": [
    {
     "data": {
      "image/png": "[encoded data removed]",
      "text/plain": [
       "<Figure size 576x432 with 2 Axes>"
      ]
     },
     "metadata": {
      "needs_background": "light"
     },
     "output_type": "display_data"
    }
   ],
   "source": [
    "pred_y = list(pred_y)\n",
    "pred_y = np.vstack(pred_y)\n",
    "\n",
    "y_obs = testDataset\\\n",
    ".map(lambda x,lab: lab)\\\n",
    ".as_numpy_iterator()\n",
    "\n",
    "y_obs = list(y_obs)\n",
    "\n",
    "y_obs = np.vstack(y_obs)\n",
    "y_obs = np.argmax(y_obs,axis=1)\n",
    "\n",
    "con_mat = tf.math.confusion_matrix(labels=y_obs, predictions=pred_y).numpy()\n",
    "\n",
    "plot_confusion_matrix(cm = con_mat, \n",
    "                      normalize    = False,\n",
    "                      target_names = ['Renosterveld', 'Recent change'],\n",
    "                      title        = \"Confusion Matrix\")"
   ]
  }
 ],
 "metadata": {
  "environment": {
   "name": "tf2-gpu.2-4.mnightly-2021-01-20-debian-10-test",
   "type": "gcloud",
   "uri": "gcr.io/deeplearning-platform-release/tf2-gpu.2-4:mnightly-2021-01-20-debian-10-test"
  },
  "kernelspec": {
   "display_name": "Python [conda env:root] *",
   "language": "python",
   "name": "conda-root-py"
  },
  "language_info": {
   "codemirror_mode": {
    "name": "ipython",
    "version": 3
   },
   "file_extension": ".py",
   "mimetype": "text/x-python",
   "name": "python",
   "nbconvert_exporter": "python",
   "pygments_lexer": "ipython3",
   "version": "3.7.9"
  }
 },
 "nbformat": 4,
 "nbformat_minor": 4
}
