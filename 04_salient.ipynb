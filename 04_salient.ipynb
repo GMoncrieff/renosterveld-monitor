{
 "cells": [
  {
   "cell_type": "code",
   "execution_count": 2,
   "id": "28e1bd9c-1413-419b-88e0-a3e2d9c618d2",
   "metadata": {},
   "outputs": [],
   "source": [
    "import ee\n",
    "service_account = 'renosterveld-ee@ee-vegetation-gee4geo.iam.gserviceaccount.com'\n",
    "credentials = ee.ServiceAccountCredentials(service_account, 'ee-vegetation-gee4geo-6309a79ef209.json')\n",
    "ee.Initialize(credentials)"
   ]
  },
  {
   "cell_type": "code",
   "execution_count": 27,
   "id": "cc1cf79a-5478-42c9-abfc-c1796d536afb",
   "metadata": {},
   "outputs": [],
   "source": [
    "import tensorflow as tf\n",
    "import random\n",
    "import json\n",
    "from eoflow.models import TransformerEncoder, TempCNNModel\n",
    "from sklearn.ensemble import RandomForestClassifier\n",
    "from sklearn import metrics\n",
    "from utils.tf_data_utils import *\n",
    "from utils.globals import *\n",
    "\n",
    "from tf_keras_vis.utils.scores import CategoricalScore\n",
    "from tensorflow.keras import backend as K\n",
    "from tf_keras_vis.scorecam import Scorecam\n",
    "from tf_keras_vis.gradcam_plus_plus import GradcamPlusPlus\n",
    "\n",
    "random.seed(1234)"
   ]
  },
  {
   "cell_type": "code",
   "execution_count": 28,
   "id": "05f55b86-bf34-4419-a499-03ce731b89eb",
   "metadata": {},
   "outputs": [],
   "source": [
    "from tf_keras_vis.gradcam_plus_plus import GradcamPlusPlus"
   ]
  },
  {
   "cell_type": "code",
   "execution_count": 29,
   "id": "250bdb9b-77a1-4736-ad72-36822f0cf75e",
   "metadata": {},
   "outputs": [],
   "source": [
    "with open('data/max.json') as f:\n",
    "  Max = json.load(f)\n",
    "with open('data/min.json') as f:\n",
    "  Min = json.load(f)"
   ]
  },
  {
   "cell_type": "code",
   "execution_count": 30,
   "id": "c970fd34-5335-421c-ac54-0aea058b7f78",
   "metadata": {},
   "outputs": [],
   "source": [
    "# List of fixed-length features, all of which are float32.\n",
    "columns = [\n",
    "  tf.io.FixedLenFeature(shape=[tsLength], dtype=tf.float32) \n",
    "    for k in featureNames\n",
    "]\n",
    "# Dictionary with names as keys, features as values.\n",
    "featuresDict = dict(zip(featureNames, columns))"
   ]
  },
  {
   "cell_type": "code",
   "execution_count": 31,
   "id": "fb1d57c9-6d6d-4c16-86e9-d8f3740f3ed5",
   "metadata": {},
   "outputs": [],
   "source": [
    "validFilePath = 'data/Valid_reno_cnn.tfrecord.gz'\n",
    "ind_ = random.choices(range(1,1000),k=4)\n",
    "band = 16"
   ]
  },
  {
   "cell_type": "code",
   "execution_count": 32,
   "id": "57c7d7be-d2e8-495f-ae64-529f23b7b70a",
   "metadata": {},
   "outputs": [],
   "source": [
    "salDataset = tf.data.TFRecordDataset(validFilePath, compression_type='GZIP')\\\n",
    ".map(lambda x: parse_tfrecord(x,featuresDict))\\\n",
    ".flat_map(lambda x: shift_window(x, 18, len(allbands)+1))\\\n",
    ".map(lambda x: reshape_ts(x, featureNames))\\\n",
    ".map(lambda x: labeller(x, label))\\\n",
    ".filter(lambda x: filter_fn(x,[1.0]))\\\n",
    ".map(lambda x: standardize(x, Min,Max))\\\n",
    ".map(lambda x: poplabint(x, label))\\\n",
    ".map(lambda x, lab: toTuple(x, lab))\\\n",
    ".batch(1)\n",
    "\n",
    "valdat = list(salDataset\\\n",
    ".map(lambda x,lab: x)\\\n",
    ".as_numpy_iterator())\n",
    "\n",
    "vd=[valdat[i] for i in ind_]\n",
    "#vd=valdat[0:4]\n",
    "vd=np.vstack(vd)"
   ]
  },
  {
   "cell_type": "code",
   "execution_count": 33,
   "id": "e62055c4-28db-4572-818e-0ad38e53e863",
   "metadata": {},
   "outputs": [],
   "source": [
    "salDataset = tf.data.TFRecordDataset(validFilePath, compression_type='GZIP')\\\n",
    ".map(lambda x: parse_tfrecord(x,featuresDict))\\\n",
    ".flat_map(lambda x: shift_window(x, 18, len(allbands)+1))\\\n",
    ".map(lambda x: reshape_ts(x, featureNames))\\\n",
    ".map(lambda x: labeller(x, label))\\\n",
    ".filter(lambda x: filter_fn(x,[1.0]))\\\n",
    ".map(lambda x: poplabint(x, label))\\\n",
    ".map(lambda x, lab: toTuple(x, lab))\\\n",
    ".batch(1)\n",
    "\n",
    "valdat = list(salDataset\\\n",
    ".map(lambda x,lab: x)\\\n",
    ".as_numpy_iterator())\n",
    "\n",
    "vd_raw=[valdat[i] for i in ind_]\n",
    "#vd_raw=valdat[0:4]\n",
    "vd_raw=np.vstack(vd_raw)"
   ]
  },
  {
   "cell_type": "code",
   "execution_count": 34,
   "id": "da7551e8-ac8e-4dcc-91c7-52662f45cf9d",
   "metadata": {},
   "outputs": [],
   "source": [
    "model = tf.keras.models.load_model('models/saved_cnn_model_cpu', compile=False)\n",
    "#model_.predict(single)"
   ]
  },
  {
   "cell_type": "code",
   "execution_count": 35,
   "id": "640a2788-5914-4054-ac85-a648ddac8f40",
   "metadata": {},
   "outputs": [],
   "source": [
    "inp= model.layers[0].input\n",
    "outp=model.layers[0].layers[-2].output\n",
    "model = tf.keras.models.Model(inp,outp)"
   ]
  },
  {
   "cell_type": "code",
   "execution_count": 36,
   "id": "80dbcc39-1aed-4e76-8a30-d86d05486eb9",
   "metadata": {},
   "outputs": [],
   "source": [
    "# Create ScoreCAM object\n",
    "score = CategoricalScore([1,1,1,1])\n",
    "gradcam = GradcamPlusPlus(model,\n",
    "                          model_modifier=None,\n",
    "                          clone=False)\n",
    "\n",
    "# Generate heatmap with ScoreCAM\n",
    "cam = gradcam(score, vd, penultimate_layer=-1)"
   ]
  },
  {
   "cell_type": "code",
   "execution_count": 37,
   "id": "df383d85-b826-476c-8859-1213efcbddf8",
   "metadata": {},
   "outputs": [],
   "source": [
    "def getcam(x,idx):\n",
    "    cam=x[idx]\n",
    "    cam=np.repeat(cam[:,np.newaxis],18,1)\n",
    "    cam=np.transpose(cam)\n",
    "    return cam"
   ]
  },
  {
   "cell_type": "code",
   "execution_count": 38,
   "id": "c34e5463-17a2-434c-b62b-16d8c6ac9f7f",
   "metadata": {},
   "outputs": [
    {
     "data": {
      "text/plain": [
       "<matplotlib.colorbar.Colorbar at 0x7fa68ffd4e50>"
      ]
     },
     "execution_count": 38,
     "metadata": {},
     "output_type": "execute_result"
    },
    {
     "data": {
      "image/png": "[encoded data removed]",
      "text/plain": [
       "<Figure size 432x288 with 5 Axes>"
      ]
     },
     "metadata": {
      "needs_background": "light"
     },
     "output_type": "display_data"
    }
   ],
   "source": [
    "import matplotlib.pyplot as plt\n",
    "xx = np.array([1,2,3,4,5,6,7,8,9,10,11,12,13,14,15,16,17,18])\n",
    "nrow = 2\n",
    "ncol = 2\n",
    "fig, axs = plt.subplots(nrow, ncol)\n",
    "for i, ax in enumerate(fig.axes):\n",
    "    im= ax.imshow(getcam(cam,i), interpolation='bilinear',alpha=0.4,cmap='OrRd',extent=[1,18,0,0.6],aspect='auto')\n",
    "    ax.plot(xx,vd_raw[i,...,band])\n",
    "\n",
    "for ax in fig.get_axes():\n",
    "    ax.label_outer()\n",
    "fig.supxlabel(\"timestep\")\n",
    "fig.supylabel(\"NDVI\")\n",
    "fig.colorbar(im,ax=axs.ravel().tolist())"
   ]
  },
  {
   "cell_type": "code",
   "execution_count": 39,
   "id": "08fe7b26-7a64-4e9d-a116-e5bfd07d4d84",
   "metadata": {},
   "outputs": [],
   "source": [
    "fig.savefig('fig_t2.png')"
   ]
  }
 ],
 "metadata": {
  "environment": {
   "name": "tf2-gpu.2-6.m80",
   "type": "gcloud",
   "uri": "gcr.io/deeplearning-platform-release/tf2-gpu.2-6:m80"
  },
  "kernelspec": {
   "display_name": "Python [conda env:root] *",
   "language": "python",
   "name": "conda-root-py"
  },
  "language_info": {
   "codemirror_mode": {
    "name": "ipython",
    "version": 3
   },
   "file_extension": ".py",
   "mimetype": "text/x-python",
   "name": "python",
   "nbconvert_exporter": "python",
   "pygments_lexer": "ipython3",
   "version": "3.7.10"
  }
 },
 "nbformat": 4,
 "nbformat_minor": 5
}
